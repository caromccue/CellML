{
 "cells": [
  {
   "cell_type": "code",
   "execution_count": 2,
   "metadata": {},
   "outputs": [],
   "source": [
    "import matplotlib as mpl\n",
    "mpl.use('Agg')\n",
    "mpl.rcParams['pdf.fonttype'] = 42\n",
    "import numpy as np\n",
    "import matplotlib.pyplot as plt\n",
    "import skimage\n",
    "from scipy import ndimage\n",
    "from skimage.filters import threshold_otsu, gaussian, median\n",
    "from skimage.segmentation import clear_border\n",
    "from skimage.measure import label, regionprops\n",
    "from skimage.morphology import watershed\n",
    "from skimage.feature import peak_local_max\n",
    "from mpl_toolkits.axes_grid1 import ImageGrid\n"
   ]
  },
  {
   "cell_type": "code",
   "execution_count": 3,
   "metadata": {},
   "outputs": [],
   "source": [
    "def plot_segm(image, loc, regions=None, name=None):\n",
    "    if name is None:\n",
    "        name=''\n",
    "    l = im.shape[0]//8+1\n",
    "    fig = plt.figure(figsize=(12, l*1.5))\n",
    "    axarr = ImageGrid(fig, 111,\n",
    "                 nrows_ncols=(l, 8),\n",
    "                 axes_pad=0.01,\n",
    "                 )\n",
    "    for i in range(len(image)):\n",
    "        axarr[i].imshow(image[i], cmap='Greys_r', vmax=image.max())\n",
    "        if regions is not None and not np.all(regions[i]==0):\n",
    "            axarr[i].imshow(np.ma.masked_equal(regions[i], 0), vmin=0, vmax=regions.max(), cmap='viridis', alpha=0.15)\n",
    "        axarr[i].axis('off')\n",
    "        axarr[i].text(0.0, 1.0, i,\n",
    "             horizontalalignment='left',\n",
    "             verticalalignment='top',\n",
    "             transform = axarr[i].transAxes, color='w')\n",
    "    for j in range(i, len(axarr)):\n",
    "        axarr[j].axis('off')\n",
    "    plt.savefig(loc+name+'.png',\n",
    "                 bbox_inches='tight', dpi=300)\n",
    "    plt.close()\n"
   ]
  },
  {
   "cell_type": "code",
   "execution_count": 4,
   "metadata": {},
   "outputs": [],
   "source": [
    "def compactness(p):\n",
    "    p = regionprops(label(p.filled_image))[0]\n",
    "    return 4*np.pi*p.area/(p.perimeter**2)\n",
    "\n",
    "def segment_z(subim):\n",
    "    if np.all(subim==0):\n",
    "        return subim\n",
    "\n",
    "    a = skimage.restoration.denoise_tv_chambolle(subim, multichannel=False, weight=0.2)\n",
    "\n",
    "    mask = a>threshold_otsu(a)\n",
    "    mask = clear_border(mask)\n",
    "    mask = skimage.morphology.binary_closing(mask, selem=skimage.morphology.disk(3))\n",
    "    mask = skimage.morphology.remove_small_holes(mask, 50)\n",
    "    mask = skimage.morphology.remove_small_objects(mask, 1000)\n",
    "    antiregions = label(clear_border(~mask))\n",
    "    pr = regionprops(antiregions)\n",
    "    for p in pr:\n",
    "        #Filter holes\n",
    "        if p.major_axis_length/p.minor_axis_length>1.25 or compactness(p)<0.5:\n",
    "            for j1, j2 in p.coords:\n",
    "                mask[j1, j2] = True\n",
    "    newmask = skimage.morphology.remove_small_objects(ndimage.binary_fill_holes(mask).astype(bool), 15000)\n",
    "    newmask = skimage.filters.median(newmask, selem=skimage.morphology.disk(20))\n",
    "\n",
    "    pr = regionprops(label(newmask), subim)\n",
    "    for p in pr:\n",
    "        try:\n",
    "            if compactness(p)<0.35 or p.area>150000 or \\\n",
    "               p.mean_intensity<1.5*subim.mean():\n",
    "                for j1, j2 in p.coords:\n",
    "                    newmask[j1, j2] = False\n",
    "        except TypeError:\n",
    "            for j1, j2 in p.coords:\n",
    "                newmask[j1, j2] = False\n",
    "    newmask *= mask\n",
    "    return newmask\n"
   ]
  },
  {
   "cell_type": "code",
   "execution_count": null,
   "metadata": {},
   "outputs": [],
   "source": [
    "def segment_image(image):\n",
    "    im = np.clip(image, 0, np.percentile(image, 99)).astype(int)\n",
    "    print('Thresholding z planes')\n",
    "    mask = np.zeros_like(im)\n",
    "    for i, subim in enumerate(im):\n",
    "        mask[i] = segment_z(subim)\n",
    "    mask = skimage.morphology.remove_small_objects(mask.astype(bool), 300000)\n",
    "\n",
    "    regions = label(mask, connectivity=1)\n",
    "\n",
    "    np.save(''+name, regions)\n",
    "\n",
    "\n",
    "    plot_segm(image, '', regions, name=name)\n"
   ]
  },
  {
   "cell_type": "code",
   "execution_count": null,
   "metadata": {},
   "outputs": [],
   "source": [
    "if __name__=='__main__':\n",
    "    import argparse\n",
    "\n",
    "    parser = argparse.ArgumentParser()\n",
    "    parser.add_argument(\"imagefile\")\n",
    "    args = parser.parse_args()\n",
    "    imagefile = args.imagefile\n",
    "\n",
    "    name = imagefile.split('/')[-1]\n",
    "    print(name)\n",
    "    with tf.TiffFile(imagefile) as f:\n",
    "        im = f.asarray().squeeze()[:, 0]\n",
    "    im = skimage.exposure.rescale_intensity(im, out_range=(0, 255))\n",
    "    segment_image(im)   \n",
    "    print('Done')"
   ]
  }
 ],
 "metadata": {
  "kernelspec": {
   "display_name": "Python 3",
   "language": "python",
   "name": "python3"
  },
  "language_info": {
   "codemirror_mode": {
    "name": "ipython",
    "version": 3
   },
   "file_extension": ".py",
   "mimetype": "text/x-python",
   "name": "python",
   "nbconvert_exporter": "python",
   "pygments_lexer": "ipython3",
   "version": "3.6.8"
  }
 },
 "nbformat": 4,
 "nbformat_minor": 2
}
