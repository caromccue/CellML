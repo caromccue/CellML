{
 "cells": [
  {
   "cell_type": "code",
   "execution_count": 1,
   "metadata": {},
   "outputs": [],
   "source": [
    "from math import sqrt\n",
    "\n",
    "import numpy as np\n",
    "\n",
    "import pandas as pd\n",
    "\n",
    "import matplotlib\n",
    "import matplotlib.pyplot as plt\n",
    "import matplotlib.patches as mpatches"
   ]
  },
  {
   "cell_type": "code",
   "execution_count": 2,
   "metadata": {},
   "outputs": [],
   "source": [
    "df = pd.read_excel('/Users/carolinemccue/Dropbox (MIT)/Project_ReversibleCellAdhesion_Broad/Shear Experiments/Image Processing/ShearForceResults.xlsx', sheet_name = 0, header = 0)\n",
    "\n",
    "area2p5um = df['2.5um']\n",
    "area5um = df['5um']\n",
    "area10um = df['10um']\n",
    "areaflat = df['flat']"
   ]
  },
  {
   "cell_type": "code",
   "execution_count": 3,
   "metadata": {
    "scrolled": false
   },
   "outputs": [
    {
     "data": {
      "image/png": "[encoded data removed]",
      "text/plain": [
       "<Figure size 432x288 with 1 Axes>"
      ]
     },
     "metadata": {},
     "output_type": "display_data"
    }
   ],
   "source": [
    "postsize = ['flat', '2.5', '5', '10']\n",
    "x = np.arange(len(postsize))\n",
    "y = [areaflat.mean(), area2p5um.mean(), area5um.mean(), area10um.mean()]\n",
    "errory = [areaflat.std(), area2p5um.std(), area5um.std(), area10um.std()]\n",
    "\n",
    "fig, ax = plt.subplots()\n",
    "ax.bar(x, y, yerr = errory, align='center', alpha=0.5, ecolor='black', capsize=10)\n",
    "ax.set_ylabel('Percent of Cells Adhered')\n",
    "ax.set_xticks(x)\n",
    "ax.set_xticklabels(postsize)\n",
    "ax.set_xlabel('Surface Post Diameter ($\\mu m$)')\n",
    "ax.set_title('Percent of Cells Adhered After 90 Seconds with 1.5nN')\n",
    "\n",
    "\n",
    "# Save the figure and show\n",
    "plt.tight_layout()\n",
    "plt.show()"
   ]
  },
  {
   "cell_type": "code",
   "execution_count": 5,
   "metadata": {
    "scrolled": true
   },
   "outputs": [
    {
     "data": {
      "text/plain": [
       "(0.10537997793935139,\n",
       " 0.5859713281893983,\n",
       " 0.4514603167983723,\n",
       " 0.7765470273535169)"
      ]
     },
     "execution_count": 5,
     "metadata": {},
     "output_type": "execute_result"
    }
   ],
   "source": [
    "1-areaflat.mean(), 1-area2p5um.mean(), 1-area5um.mean(), 1-area10um.mean()"
   ]
  },
  {
   "cell_type": "code",
   "execution_count": null,
   "metadata": {},
   "outputs": [],
   "source": []
  }
 ],
 "metadata": {
  "kernelspec": {
   "display_name": "Python 3",
   "language": "python",
   "name": "python3"
  },
  "language_info": {
   "codemirror_mode": {
    "name": "ipython",
    "version": 3
   },
   "file_extension": ".py",
   "mimetype": "text/x-python",
   "name": "python",
   "nbconvert_exporter": "python",
   "pygments_lexer": "ipython3",
   "version": "3.6.8"
  }
 },
 "nbformat": 4,
 "nbformat_minor": 2
}
