{
 "cells": [
  {
   "cell_type": "code",
   "execution_count": 2,
   "metadata": {},
   "outputs": [],
   "source": [
    "from math import sqrt\n",
    "\n",
    "import numpy as np\n",
    "\n",
    "import pandas as pd\n",
    "\n",
    "import matplotlib\n",
    "import matplotlib.pyplot as plt\n",
    "import matplotlib.patches as mpatches\n",
    "\n",
    "import skimage\n",
    "from skimage import io, exposure, img_as_float, img_as_ubyte, morphology, filters, util\n",
    "from skimage.color import rgb2gray, label2rgb\n",
    "from skimage.feature import canny, blob_dog, blob_log, blob_doh,  peak_local_max\n",
    "from skimage.filters import sobel, threshold_otsu, try_all_threshold, threshold_local, threshold_minimum\n",
    "from skimage.segmentation import clear_border, watershed, random_walker\n",
    "from skimage.measure import label, regionprops\n",
    "from skimage.measure import label, regionprops\n",
    "from skimage.color import label2rgb\n",
    "from skimage.morphology import closing\n",
    "\n",
    "import cv2\n",
    "\n",
    "from scipy import ndimage as ndi\n",
    "from scipy.stats import norm\n",
    "\n",
    "import os\n",
    "\n",
    "import plotly.graph_objs as go\n",
    "\n",
    "import pickle"
   ]
  },
  {
   "cell_type": "code",
   "execution_count": 6,
   "metadata": {},
   "outputs": [
    {
     "ename": "AttributeError",
     "evalue": "'zip' object has no attribute 'head'",
     "output_type": "error",
     "traceback": [
      "\u001b[0;31m---------------------------------------------------------------------------\u001b[0m",
      "\u001b[0;31mAttributeError\u001b[0m                            Traceback (most recent call last)",
      "\u001b[0;32m<ipython-input-6-a2f77a408836>\u001b[0m in \u001b[0;36m<module>\u001b[0;34m()\u001b[0m\n\u001b[1;32m      2\u001b[0m     \u001b[0marea5\u001b[0m \u001b[0;34m=\u001b[0m \u001b[0mpickle\u001b[0m\u001b[0;34m.\u001b[0m\u001b[0mload\u001b[0m\u001b[0;34m(\u001b[0m\u001b[0mf\u001b[0m\u001b[0;34m)\u001b[0m\u001b[0;34m\u001b[0m\u001b[0;34m\u001b[0m\u001b[0m\n\u001b[1;32m      3\u001b[0m \u001b[0;34m\u001b[0m\u001b[0m\n\u001b[0;32m----> 4\u001b[0;31m \u001b[0marea5\u001b[0m\u001b[0;34m.\u001b[0m\u001b[0mhead\u001b[0m\u001b[0;34m(\u001b[0m\u001b[0;36m5\u001b[0m\u001b[0;34m)\u001b[0m\u001b[0;34m\u001b[0m\u001b[0;34m\u001b[0m\u001b[0m\n\u001b[0m",
      "\u001b[0;31mAttributeError\u001b[0m: 'zip' object has no attribute 'head'"
     ]
    }
   ],
   "source": [
    "with open(\"/Users/carolinemccue/Desktop/MG63/r01c02f26p03-ch2sk1fk1fl1/area5.pkl\", 'rb') as f:\n",
    "    area5 = pickle.load(f)\n",
    "\n",
    "area5.head(5)"
   ]
  },
  {
   "cell_type": "code",
   "execution_count": 2,
   "metadata": {},
   "outputs": [],
   "source": [
    "# 2.5 um\n",
    "\n",
    "with open(\"/Users/carolinemccue/Desktop/MG63/r01c01f01p01-ch2sk1fk1fl1/labeled_carolinemccue.pkl\", 'rb') as f:\n",
    "    num_posts2p5 = pickle.load(f)\n",
    "    \n",
    "posts2p5 = {k:v for k,v in num_posts2p5.items() if v != 'Delete'}\n"
   ]
  },
  {
   "cell_type": "code",
   "execution_count": 5,
   "metadata": {},
   "outputs": [
    {
     "data": {
      "text/plain": [
       "{'r01c02f26p03-ch2sk1fk1fl1_cell_67.jpg': '8',\n",
       " 'r01c02f26p03-ch2sk1fk1fl1_cell_25.jpg': '11',\n",
       " 'r01c02f26p03-ch2sk1fk1fl1_cell_86.jpg': '26',\n",
       " 'r01c02f26p03-ch2sk1fk1fl1_cell_62.jpg': '8',\n",
       " 'r01c02f26p03-ch2sk1fk1fl1_cell_21.jpg': '11',\n",
       " 'r01c02f26p03-ch2sk1fk1fl1_cell_11.jpg': '13',\n",
       " 'r01c02f26p03-ch2sk1fk1fl1_cell_60.jpg': '9',\n",
       " 'r01c02f26p03-ch2sk1fk1fl1_cell_24.jpg': '6',\n",
       " 'r01c02f26p03-ch2sk1fk1fl1_cell_0.jpg': '11',\n",
       " 'r01c02f26p03-ch2sk1fk1fl1_cell_5.jpg': '12',\n",
       " 'r01c02f26p03-ch2sk1fk1fl1_cell_57.jpg': '23',\n",
       " 'r01c02f26p03-ch2sk1fk1fl1_cell_43.jpg': '14',\n",
       " 'r01c02f26p03-ch2sk1fk1fl1_cell_66.jpg': '5',\n",
       " 'r01c02f26p03-ch2sk1fk1fl1_cell_72.jpg': '8',\n",
       " 'r01c02f26p03-ch2sk1fk1fl1_cell_23.jpg': '9',\n",
       " 'r01c02f26p03-ch2sk1fk1fl1_cell_12.jpg': '9',\n",
       " 'r01c02f26p03-ch2sk1fk1fl1_cell_1.jpg': '6',\n",
       " 'r01c02f26p03-ch2sk1fk1fl1_cell_41.jpg': '12',\n",
       " 'r01c02f26p03-ch2sk1fk1fl1_cell_9.jpg': '7',\n",
       " 'r01c02f26p03-ch2sk1fk1fl1_cell_44.jpg': '9',\n",
       " 'r01c02f26p03-ch2sk1fk1fl1_cell_22.jpg': '6',\n",
       " 'r01c02f26p03-ch2sk1fk1fl1_cell_82.jpg': '35',\n",
       " 'r01c02f26p03-ch2sk1fk1fl1_cell_28.jpg': '6',\n",
       " 'r01c02f26p03-ch2sk1fk1fl1_cell_4.jpg': '8',\n",
       " 'r01c02f26p03-ch2sk1fk1fl1_cell_76.jpg': '12',\n",
       " 'r01c02f26p03-ch2sk1fk1fl1_cell_20.jpg': '8',\n",
       " 'r01c02f26p03-ch2sk1fk1fl1_cell_35.jpg': '20',\n",
       " 'r01c02f26p03-ch2sk1fk1fl1_cell_36.jpg': '15',\n",
       " 'r01c02f26p03-ch2sk1fk1fl1_cell_74.jpg': '13',\n",
       " 'r01c02f26p03-ch2sk1fk1fl1_cell_59.jpg': '13',\n",
       " 'r01c02f26p03-ch2sk1fk1fl1_cell_33.jpg': '10',\n",
       " 'r01c02f26p03-ch2sk1fk1fl1_cell_16.jpg': '10',\n",
       " 'r01c02f26p03-ch2sk1fk1fl1_cell_14.jpg': '7',\n",
       " 'r01c02f26p03-ch2sk1fk1fl1_cell_81.jpg': '17',\n",
       " 'r01c02f26p03-ch2sk1fk1fl1_cell_27.jpg': '22',\n",
       " 'r01c02f26p03-ch2sk1fk1fl1_cell_61.jpg': '9',\n",
       " 'r01c02f26p03-ch2sk1fk1fl1_cell_46.jpg': '9',\n",
       " 'r01c02f26p03-ch2sk1fk1fl1_cell_53.jpg': '18',\n",
       " 'r01c02f26p03-ch2sk1fk1fl1_cell_38.jpg': '11',\n",
       " 'r01c02f26p03-ch2sk1fk1fl1_cell_7.jpg': '12',\n",
       " 'r01c02f26p03-ch2sk1fk1fl1_cell_39.jpg': '19'}"
      ]
     },
     "execution_count": 5,
     "metadata": {},
     "output_type": "execute_result"
    }
   ],
   "source": [
    "# 5 um\n",
    "\n",
    "with open(\"/Users/carolinemccue/Desktop/MG63/r01c02f26p03-ch2sk1fk1fl1/labeled_carolinemccue.pkl\", 'rb') as f:\n",
    "    num_posts5 = pickle.load(f)\n",
    "    \n",
    "posts5 = {k:v for k,v in num_posts5.items() if v != 'Delete'}\n",
    "\n",
    "posts5"
   ]
  },
  {
   "cell_type": "code",
   "execution_count": 4,
   "metadata": {},
   "outputs": [],
   "source": [
    "# 10 um\n",
    "\n",
    "with open(\"/Users/carolinemccue/Desktop/MG63/r01c03f60p02-ch2sk1fk1fl1/labeled_carolinemccue.pkl\", 'rb') as f:\n",
    "    num_posts10 = pickle.load(f)\n",
    "    \n",
    "posts10 = {k:v for k,v in num_posts10.items() if v != 'Delete'}"
   ]
  },
  {
   "cell_type": "code",
   "execution_count": null,
   "metadata": {},
   "outputs": [],
   "source": []
  }
 ],
 "metadata": {
  "kernelspec": {
   "display_name": "Python 3",
   "language": "python",
   "name": "python3"
  },
  "language_info": {
   "codemirror_mode": {
    "name": "ipython",
    "version": 3
   },
   "file_extension": ".py",
   "mimetype": "text/x-python",
   "name": "python",
   "nbconvert_exporter": "python",
   "pygments_lexer": "ipython3",
   "version": "3.6.8"
  }
 },
 "nbformat": 4,
 "nbformat_minor": 2
}
