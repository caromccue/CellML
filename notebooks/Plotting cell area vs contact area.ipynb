{
 "cells": [
  {
   "cell_type": "code",
   "execution_count": 2,
   "metadata": {},
   "outputs": [],
   "source": [
    "from math import sqrt\n",
    "\n",
    "import numpy as np\n",
    "\n",
    "import pandas as pd\n",
    "\n",
    "import matplotlib\n",
    "import matplotlib.pyplot as plt\n",
    "import matplotlib.patches as mpatches\n",
    "\n",
    "import skimage\n",
    "from skimage import io, exposure, img_as_float, img_as_ubyte, morphology, filters, util\n",
    "from skimage.color import rgb2gray, label2rgb\n",
    "from skimage.feature import canny, blob_dog, blob_log, blob_doh,  peak_local_max\n",
    "from skimage.filters import sobel, threshold_otsu, try_all_threshold, threshold_local, threshold_minimum\n",
    "from skimage.segmentation import clear_border, watershed, random_walker\n",
    "from skimage.measure import label, regionprops\n",
    "from skimage.measure import label, regionprops\n",
    "from skimage.color import label2rgb\n",
    "from skimage.morphology import closing\n",
    "\n",
    "import cv2\n",
    "\n",
    "from scipy import ndimage as ndi\n",
    "from scipy.stats import norm\n",
    "\n",
    "import os\n",
    "\n",
    "import statistics\n",
    "\n",
    "import plotly.graph_objs as go\n",
    "\n",
    "import pickle"
   ]
  },
  {
   "cell_type": "code",
   "execution_count": null,
   "metadata": {},
   "outputs": [],
   "source": [
    "with open(\"/Users/carolinemccue/Desktop/MG63/r01c02f26p03-ch2sk1fk1fl1/area5.pkl\", 'rb') as f:\n",
    "    area5 = pickle.load(f)\n",
    "\n",
    "area5.head(5)"
   ]
  },
  {
   "cell_type": "code",
   "execution_count": 3,
   "metadata": {},
   "outputs": [
    {
     "name": "stdout",
     "output_type": "stream",
     "text": [
      "22.682926829268293 9.4748061309724\n"
     ]
    }
   ],
   "source": [
    "# 2.5 um\n",
    "\n",
    "with open(\"/Users/carolinemccue/Desktop/MG63/r01c01f01p01-ch2sk1fk1fl1/labeled_carolinemccue.pkl\", 'rb') as f:\n",
    "    num_posts2p5 = pickle.load(f)\n",
    "    \n",
    "posts2p5 = {k:v for k,v in num_posts2p5.items() if v != 'Delete'}\n",
    "\n",
    "num_posts_2p5 = list(posts2p5.values())\n",
    "num_posts_2p5 = list(map(int, num_posts_2p5))\n",
    "mean2p5 = statistics.mean(num_posts_2p5)\n",
    "std2p5 = statistics.stdev(num_posts_2p5)\n",
    "print(mean2p5, std2p5)"
   ]
  },
  {
   "cell_type": "code",
   "execution_count": 4,
   "metadata": {},
   "outputs": [
    {
     "name": "stdout",
     "output_type": "stream",
     "text": [
      "12.121951219512194 6.173309979059935\n"
     ]
    }
   ],
   "source": [
    "# 5 um\n",
    "\n",
    "with open(\"/Users/carolinemccue/Desktop/MG63/r01c02f26p03-ch2sk1fk1fl1/labeled_carolinemccue.pkl\", 'rb') as f:\n",
    "    num_posts5 = pickle.load(f)\n",
    "    \n",
    "posts5 = {k:v for k,v in num_posts5.items() if v != 'Delete'}\n",
    "\n",
    "num_posts_5 = list(posts5.values())\n",
    "num_posts_5 = list(map(int, num_posts_5))\n",
    "mean5 = statistics.mean(num_posts_5)\n",
    "std5 = statistics.stdev(num_posts_5)\n",
    "print(mean5, std5)\n"
   ]
  },
  {
   "cell_type": "code",
   "execution_count": 5,
   "metadata": {},
   "outputs": [
    {
     "name": "stdout",
     "output_type": "stream",
     "text": [
      "5.631578947368421 1.6993011700613387\n"
     ]
    }
   ],
   "source": [
    "# 10 um\n",
    "\n",
    "with open(\"/Users/carolinemccue/Desktop/MG63/r01c03f60p02-ch2sk1fk1fl1/labeled_carolinemccue.pkl\", 'rb') as f:\n",
    "    num_posts10 = pickle.load(f)\n",
    "    \n",
    "posts10 = {k:v for k,v in num_posts10.items() if v != 'Delete'}\n",
    "\n",
    "num_posts_10 = list(posts10.values())\n",
    "num_posts_10 = list(map(int, num_posts_10))\n",
    "mean10 = statistics.mean(num_posts_10)\n",
    "std10 = statistics.stdev(num_posts_10)\n",
    "print(mean10, std10)\n"
   ]
  },
  {
   "cell_type": "code",
   "execution_count": 6,
   "metadata": {},
   "outputs": [
    {
     "data": {
      "image/png": "[encoded data removed]",
      "text/plain": [
       "<Figure size 432x288 with 1 Axes>"
      ]
     },
     "metadata": {},
     "output_type": "display_data"
    }
   ],
   "source": [
    "postsize = ['2.5', '5', '10']\n",
    "x = np.arange(len(postsize))\n",
    "y = [mean2p5, mean5, mean10]\n",
    "errory = [std2p5, std5, std10]\n",
    "\n",
    "fig, ax = plt.subplots()\n",
    "ax.bar(x, y, yerr = errory, align='center', alpha=0.5, ecolor='black', capsize=10)\n",
    "ax.set_ylabel('Number of Contacts')\n",
    "ax.set_xticks(x)\n",
    "ax.set_xticklabels(postsize)\n",
    "ax.set_xlabel('Post Diameter ($\\mu m$)')\n",
    "ax.set_title('Number of Post Contacts Per Cell')\n",
    "\n",
    "\n",
    "# Save the figure and show\n",
    "plt.tight_layout()\n",
    "plt.savefig('Postcontacts')\n",
    "plt.show()"
   ]
  },
  {
   "cell_type": "code",
   "execution_count": 9,
   "metadata": {},
   "outputs": [
    {
     "data": {
      "image/png": "[encoded data removed]",
      "text/plain": [
       "<Figure size 720x504 with 1 Axes>"
      ]
     },
     "metadata": {},
     "output_type": "display_data"
    }
   ],
   "source": [
    "fig = plt.figure(figsize =(10, 7))\n",
    "ax = fig.add_subplot(111)\n",
    "\n",
    "num_posts = [num_posts_2p5, num_posts_5, num_posts_10]\n",
    "\n",
    "bp = ax.boxplot(num_posts, vert = 0)\n",
    "\n",
    "ax.set_xlabel('Number of Contacts')\n",
    "ax.set_ylabel('Post Diameter ($\\mu m$)')\n",
    "ax.set_yticklabels(['2.5', '5', '10'])\n",
    "ax.set_title('Number of Post Contacts Per Cell')\n",
    "\n",
    "     \n",
    "# show plot\n",
    "plt.show()"
   ]
  },
  {
   "cell_type": "code",
   "execution_count": null,
   "metadata": {},
   "outputs": [],
   "source": []
  }
 ],
 "metadata": {
  "kernelspec": {
   "display_name": "Python 3",
   "language": "python",
   "name": "python3"
  },
  "language_info": {
   "codemirror_mode": {
    "name": "ipython",
    "version": 3
   },
   "file_extension": ".py",
   "mimetype": "text/x-python",
   "name": "python",
   "nbconvert_exporter": "python",
   "pygments_lexer": "ipython3",
   "version": "3.6.8"
  }
 },
 "nbformat": 4,
 "nbformat_minor": 2
}
