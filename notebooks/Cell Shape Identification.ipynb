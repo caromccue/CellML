{
 "cells": [
  {
   "cell_type": "markdown",
   "metadata": {},
   "source": [
    "# Watershed segmentation for cell identification"
   ]
  },
  {
   "cell_type": "code",
   "execution_count": 1,
   "metadata": {},
   "outputs": [],
   "source": [
    "from math import sqrt\n",
    "\n",
    "import numpy as np\n",
    "\n",
    "import pandas as pd\n",
    "\n",
    "import matplotlib\n",
    "import matplotlib.pyplot as plt\n",
    "import matplotlib.patches as mpatches\n",
    "\n",
    "import skimage\n",
    "from skimage import io, exposure, img_as_float, img_as_ubyte, morphology, filters, util\n",
    "from skimage.color import rgb2gray, label2rgb\n",
    "from skimage.feature import canny, blob_dog, blob_log, blob_doh,  peak_local_max\n",
    "from skimage.filters import sobel, threshold_otsu, try_all_threshold, threshold_local, threshold_minimum\n",
    "from skimage.segmentation import clear_border, watershed, random_walker\n",
    "from skimage.measure import label, regionprops\n",
    "from skimage.measure import label, regionprops\n",
    "from skimage.color import label2rgb\n",
    "from skimage.morphology import closing\n",
    "\n",
    "import cv2\n",
    "\n",
    "from scipy import ndimage as ndi\n",
    "\n",
    "import os\n",
    "\n",
    "import plotly.graph_objs as go"
   ]
  },
  {
   "cell_type": "markdown",
   "metadata": {},
   "source": [
    "### Read image\n",
    "\n",
    "Read image as greyscale and color in parallel"
   ]
  },
  {
   "cell_type": "code",
   "execution_count": null,
   "metadata": {},
   "outputs": [],
   "source": [
    "image_file = '/Users/carolinemccue/Documents/GitHub/CrystalML/notebooks/MG63/r01c01f01p01-ch2sk1fk1fl1.tiff'\n",
    "f_grey = cv2.imread(image_file, 0) # 0 reads as greyscale\n",
    "f_color = cv2.imread(image_file, 1) # reads as color\n",
    "plt.figure(0)\n",
    "plt.imshow(f_grey, cmap=plt.cm.gray)"
   ]
  },
  {
   "cell_type": "code",
   "execution_count": null,
   "metadata": {
    "scrolled": true
   },
   "outputs": [],
   "source": [
    "f_grey"
   ]
  },
  {
   "cell_type": "markdown",
   "metadata": {},
   "source": [
    "### Crop area of interest\n",
    "\n",
    "and convert to uint (for some skimage methods)"
   ]
  },
  {
   "cell_type": "code",
   "execution_count": null,
   "metadata": {},
   "outputs": [],
   "source": [
    "f_cropped = f_grey[0:1400,0:2000] #[lines, columns]\n",
    "f_color_cropped = f_color[0:1400,0:2000] #[lines, columns]\n",
    "plt.figure(2)\n",
    "plt.imshow(f_cropped, cmap=plt.cm.gray, vmin=0, vmax=255)"
   ]
  },
  {
   "cell_type": "markdown",
   "metadata": {},
   "source": [
    "### Increase contrast\n",
    "\n",
    "Adaptive equalization can deal with some non-uniformity in the original image"
   ]
  },
  {
   "cell_type": "code",
   "execution_count": null,
   "metadata": {
    "scrolled": true
   },
   "outputs": [],
   "source": [
    "# Adaptive Equalization\n",
    "clahe = cv2.createCLAHE(clipLimit=15, tileGridSize=(8,8))\n",
    "img_adapteq = clahe.apply(f_cropped)\n",
    "plt.imshow(img_adapteq, cmap=plt.cm.gray)"
   ]
  },
  {
   "cell_type": "markdown",
   "metadata": {},
   "source": [
    "### Threshold\n",
    "\n",
    "Otsu threshold was found to work best in this type of image (see SegmentationDropletsInCapillary)."
   ]
  },
  {
   "cell_type": "code",
   "execution_count": null,
   "metadata": {},
   "outputs": [],
   "source": [
    "image = img_adapteq\n",
    "\n",
    "blur = cv2.GaussianBlur(image,(5,5),0)\n",
    "retVal, binary = cv2.threshold(blur,0,255,cv2.THRESH_BINARY+cv2.THRESH_OTSU)\n",
    "\n",
    "fig, axes = plt.subplots(ncols=3, figsize=(22, 6))\n",
    "ax = axes.ravel()\n",
    "ax[0] = plt.subplot(1, 3, 1)\n",
    "ax[1] = plt.subplot(1, 3, 2)\n",
    "ax[2] = plt.subplot(1, 3, 3, sharex=ax[0], sharey=ax[0])\n",
    "\n",
    "ax[0].imshow(image, cmap=plt.cm.gray)\n",
    "ax[0].set_title('Original')\n",
    "ax[0].axis('off')\n",
    "\n",
    "ax[1].hist(image.ravel(), bins=256)\n",
    "ax[1].set_title('Histogram')\n",
    "ax[1].axvline(retVal, color='r')\n",
    "\n",
    "ax[2].imshow(binary, cmap=plt.cm.gray)\n",
    "ax[2].set_title('Thresholded')\n",
    "ax[2].axis('off')\n",
    "\n",
    "print('Minimum threshold: ' + str(retVal))\n",
    "print('Min intensity: ' + str(np.min(image)))\n",
    "print('Max intensity: ' + str(np.max(image)))\n",
    "plt.show()"
   ]
  },
  {
   "cell_type": "markdown",
   "metadata": {},
   "source": [
    "### Perform Watershed segmentation\n",
    "\n",
    "- Close to remove artifacts from contrast increase and thresholding\n",
    "- Detect sure foreground and background from thresholding and distance transform\n",
    "- Run the watershed algorithm to segment\n",
    "- Label segmented regions\n",
    "\n",
    "#### Closing and removing small dark spots from crystal borders"
   ]
  },
  {
   "cell_type": "code",
   "execution_count": null,
   "metadata": {},
   "outputs": [],
   "source": [
    "from skimage.morphology  import binary_closing, disk, binary_dilation, remove_small_holes\n",
    "\n",
    "# Remove dark spots and connect bright spots\n",
    "kernel = cv2.getStructuringElement(cv2.MORPH_ELLIPSE,(2,2))\n",
    "closed = cv2.morphologyEx(binary, cv2.MORPH_CLOSE, kernel, iterations = 1)\n",
    "\n",
    "# Fill holes \n",
    "#fill_holes = ndi.morphology.binary_fill_holes(closed, structure=np.ones((3, 3))).astype('uint8')\n",
    "\n",
    "fig, axes = plt.subplots(nrows=1, ncols=2, figsize=(15, 15))\n",
    "ax = axes.ravel()\n",
    "\n",
    "ax[0].imshow(binary, cmap=plt.cm.gray, interpolation='nearest')\n",
    "ax[0].set_title('Binary')\n",
    "ax[1].imshow(closed, cmap=plt.cm.gray, interpolation='nearest')\n",
    "ax[1].set_title('Closed')\n",
    "#ax[2].imshow(fill_holes, cmap=plt.cm.gray, interpolation='nearest')\n",
    "#ax[2].set_title('Closed + Fill holes')\n",
    "\n",
    "for a in ax:\n",
    "    a.set_axis_off()\n",
    "\n",
    "plt.tight_layout()\n",
    "plt.show()\n",
    "plt.savefig(\"2_thresh_close.jpg\")"
   ]
  },
  {
   "cell_type": "markdown",
   "metadata": {},
   "source": [
    "#### Sure foreground / background determination"
   ]
  },
  {
   "cell_type": "code",
   "execution_count": null,
   "metadata": {},
   "outputs": [],
   "source": [
    "def clear_border(image):\n",
    "    h, w = image.shape\n",
    "    mask = np.zeros((h + 2, w + 2), np.uint8)\n",
    "    for i in range(h-1): # Iterate on the lines\n",
    "        if image[i, 0] == 255:\n",
    "            cv2.floodFill(image, mask, (0, i), 0)\n",
    "        if image[i, w-1] == 255:\n",
    "            cv2.floodFill(image, mask, (w-1, i), 0)\n",
    "    for i in range(w-1): # Iterate on the columns\n",
    "        if image[0, i] == 255:\n",
    "            cv2.floodFill(image, mask, (i, 0), 0)\n",
    "        if image[h-1, i] == 255:\n",
    "            cv2.floodFill(image, mask, (i, h-1), 0)\n",
    "    return image"
   ]
  },
  {
   "cell_type": "code",
   "execution_count": null,
   "metadata": {},
   "outputs": [],
   "source": [
    "# Alternative thresholding"
   ]
  },
  {
   "cell_type": "code",
   "execution_count": null,
   "metadata": {},
   "outputs": [],
   "source": [
    "# noise removal\n",
    "kernel = np.ones((3,3),np.uint8)\n",
    "opening = cv2.morphologyEx(closed,cv2.MORPH_OPEN,kernel, iterations = 2)\n",
    "# sure background area\n",
    "sure_bg = cv2.dilate(opening,kernel,iterations=3)\n",
    "# Finding sure foreground area\n",
    "dist_transform = cv2.distanceTransform(opening,cv2.DIST_L2,5)\n",
    "ret, sure_fg = cv2.threshold(dist_transform,0.2*dist_transform.max(),255,0)\n",
    "# Finding unknown region\n",
    "sure_fg = np.uint8(sure_fg)\n",
    "cell_outline = cv2.subtract(sure_bg,sure_fg)\n",
    "\n",
    "fig, axes = plt.subplots(nrows=2, ncols=2, figsize=(15, 15))\n",
    "ax = axes.ravel()\n",
    "\n",
    "ax[0].imshow(sure_bg, cmap=plt.cm.gray, interpolation='nearest')\n",
    "ax[0].set_title('Sure Background')\n",
    "ax[1].imshow(sure_fg, cmap=plt.cm.gray, interpolation='nearest')\n",
    "ax[1].set_title('Sure foreground')\n",
    "#ax[2].imshow(-mask, cmap=plt.cm.gray, interpolation='nearest')\n",
    "#ax[2].set_title('Mask')\n",
    "ax[2].imshow(cell_outline, cmap=plt.cm.gray, interpolation='nearest')\n",
    "ax[2].set_title('Cell Outline')\n",
    "\n",
    "for a in ax:\n",
    "    a.set_axis_off()\n",
    "\n",
    "plt.tight_layout()\n",
    "plt.show()"
   ]
  },
  {
   "cell_type": "code",
   "execution_count": null,
   "metadata": {},
   "outputs": [],
   "source": [
    "# sure background area\n",
    "#kernel = cv2.getStructuringElement(cv2.MORPH_ELLIPSE,(4,4))\n",
    "#dilated = cv2.dilate(closed,kernel,iterations=1)\n",
    "\n",
    "##dist_transform = cv2.distanceTransform(fill_holes,cv2.DIST_L2,5)\n",
    "\n",
    "##sure_bg = fill_holes.copy()\n",
    "##sure_bg[(dist_transform != 0) & (dist_transform < 0.1*dist_transform.max())] = 0\n",
    "\n",
    "#sure_bg = np.uint8(dilated)\n",
    "\n",
    "## Finding sure foreground area\n",
    "#dist_transform_fg = cv2.distanceTransform(closed,cv2.DIST_L2,5)\n",
    "#ret, sure_fg = cv2.threshold(dist_transform_fg,0.2*dist_transform_fg.max(),255,0)\n",
    "#clear_border(sure_fg)\n",
    "\n",
    "## Masking\n",
    "#mask = dist_transform_fg.copy()\n",
    "#mask[mask < 10] = 0\n",
    "\n",
    "## Finding unknown region\n",
    "#sure_fg = np.uint8(sure_fg)\n",
    "#cell_outline = cv2.subtract(sure_bg,sure_fg)\n",
    "\n",
    "#fig, axes = plt.subplots(nrows=2, ncols=2, figsize=(15, 15))\n",
    "#ax = axes.ravel()\n",
    "\n",
    "#ax[0].imshow(sure_bg, cmap=plt.cm.gray, interpolation='nearest')\n",
    "#ax[0].set_title('Sure Background')\n",
    "#ax[1].imshow(sure_fg, cmap=plt.cm.gray, interpolation='nearest')\n",
    "#ax[1].set_title('Sure foreground')\n",
    "#ax[2].imshow(-mask, cmap=plt.cm.gray, interpolation='nearest')\n",
    "#ax[2].set_title('Mask')\n",
    "#ax[3].imshow(cell_outline, cmap=plt.cm.gray, interpolation='nearest')\n",
    "#ax[3].set_title('Cell Outline')\n",
    "\n",
    "#for a in ax:\n",
    "    #a.set_axis_off()\n",
    "\n",
    "#plt.tight_layout()\n",
    "#plt.show()"
   ]
  },
  {
   "cell_type": "markdown",
   "metadata": {},
   "source": [
    "#### Label markers"
   ]
  },
  {
   "cell_type": "code",
   "execution_count": null,
   "metadata": {
    "scrolled": false
   },
   "outputs": [],
   "source": [
    "# Marker labelling\n",
    "ret, markers = cv2.connectedComponents(sure_fg)\n",
    "\n",
    "# Add one to all labels so that sure background is not 0, but 1\n",
    "#markers = markers+1\n",
    "\n",
    "# Now, mark the region of unknown with zero\n",
    "#markers[sure_bg] = 1\n",
    "\n",
    "fig = plt.figure(figsize=(15,10))\n",
    "plt.imshow(markers, cmap=plt.cm.tab20)"
   ]
  },
  {
   "cell_type": "markdown",
   "metadata": {},
   "source": [
    "#### Run the watershed algorithm"
   ]
  },
  {
   "cell_type": "code",
   "execution_count": null,
   "metadata": {},
   "outputs": [],
   "source": [
    "threeChannels = cv2.cvtColor(closed, cv2.COLOR_GRAY2BGR)\n",
    "segmented = cv2.watershed(threeChannels.astype('uint8'), markers)\n",
    "\n",
    "# Color the labels sections for display\n",
    "image_label_overlay = label2rgb(segmented, image=img_adapteq, bg_label=1)\n",
    "\n",
    "fig, axes = plt.subplots(nrows=2, ncols=1, figsize=(15, 15))\n",
    "ax = axes.ravel()\n",
    "\n",
    "ax[0].imshow(closed, cmap=plt.cm.gray, interpolation='nearest')\n",
    "ax[0].contour(segmented, [0.5], linewidths=1, colors='r')\n",
    "ax[0].set_title('Contour')\n",
    "ax[1].imshow(image_label_overlay)\n",
    "ax[1].set_title('Segmented Image')\n",
    "\n",
    "for a in ax:\n",
    "    a.set_axis_off()\n",
    "\n",
    "    \n",
    "plt.tight_layout()\n",
    "plt.show()"
   ]
  },
  {
   "cell_type": "markdown",
   "metadata": {},
   "source": [
    "#### Extract the region properties\n",
    "\n",
    "Note that label 1 is attributed to the background in the code above"
   ]
  },
  {
   "cell_type": "code",
   "execution_count": null,
   "metadata": {
    "scrolled": true
   },
   "outputs": [],
   "source": [
    "reg = regionprops(segmented, intensity_image=f_cropped)[1:]\n",
    "columns= ['Label', 'Area', 'Eccentricity', 'Circularity', 'Bbox Area', 'Bbox', 'Centroid', 'Image']\n",
    "df = pd.DataFrame(columns=columns, dtype=np.float64)\n",
    "df = df.append([{'Label':i.label, 'Area':i.area, 'Eccentricity':i.eccentricity, 'Circularity':(4 * np.pi * i.area / (i.perimeter**2)), 'Bbox Area':i.bbox_area, 'Bbox':i.bbox, 'Centroid':i.centroid, 'Image':i.intensity_image} for i in reg])\n",
    "df.head(5)"
   ]
  },
  {
   "cell_type": "markdown",
   "metadata": {},
   "source": [
    "#### Display labeled region bounding boxes and labels"
   ]
  },
  {
   "cell_type": "code",
   "execution_count": null,
   "metadata": {},
   "outputs": [],
   "source": [
    "boxed_regions = f_cropped.copy()\n",
    "\n",
    "# Iterate over all non-background labels\n",
    "for region in reg:\n",
    "    (min_row, min_col, max_row, max_col) = region.bbox\n",
    "    color = np.uint8(np.random.randint(0, 255, 3)).tolist()\n",
    "    cv2.rectangle(boxed_regions, (min_col,min_row), (max_col,max_row), color, 3)\n",
    "    cv2.putText(boxed_regions,'%d'%region.label,(min_col+50, min_row+100), cv2.FONT_HERSHEY_SIMPLEX, 3, color, 3, cv2.LINE_AA)\n",
    "    \n",
    "fig = plt.figure(figsize=(15,10))\n",
    "plt.imshow(boxed_regions, cmap=plt.cm.gray)"
   ]
  },
  {
   "cell_type": "markdown",
   "metadata": {},
   "source": [
    "#### Evaluate peo"
   ]
  },
  {
   "cell_type": "code",
   "execution_count": null,
   "metadata": {},
   "outputs": [],
   "source": [
    "df[df['Label'] == 88]"
   ]
  },
  {
   "cell_type": "code",
   "execution_count": null,
   "metadata": {},
   "outputs": [],
   "source": [
    "df.Circularity.plot()"
   ]
  },
  {
   "cell_type": "code",
   "execution_count": null,
   "metadata": {},
   "outputs": [],
   "source": [
    "df.Eccentricity.plot()"
   ]
  },
  {
   "cell_type": "code",
   "execution_count": null,
   "metadata": {},
   "outputs": [],
   "source": [
    "df['Area'].plot()"
   ]
  },
  {
   "cell_type": "code",
   "execution_count": null,
   "metadata": {},
   "outputs": [],
   "source": [
    "plt.scatter(df.Eccentricity,df[\"Area\"])"
   ]
  },
  {
   "cell_type": "code",
   "execution_count": null,
   "metadata": {},
   "outputs": [],
   "source": [
    "plt.scatter(df.Eccentricity,df[\"Bbox Area\"])"
   ]
  },
  {
   "cell_type": "code",
   "execution_count": null,
   "metadata": {},
   "outputs": [],
   "source": [
    "# Display parameters\n",
    "org_img = f_cropped # Intensity image\n",
    "border = 15 # Additional pixels to display on each side of the bounding box\n",
    "#ecc_cutoff = 0.8 # Eccentricity cuttoff, removes misidentified shapes (for instance half-droplets)\n",
    "area_cutoff = 0.75*df.Area.mean() # Area cuttoff, removes misidentified shapes (for instance half-droplets)\n",
    "max_col = org_img.shape[1]\n",
    "max_row = org_img.shape[0]\n",
    "\n",
    "n_img = len(reg)\n",
    "print(\"{} cells were detected and segmented\".format(n_img))\n",
    "n_col = 15\n",
    "n_rows = n_img // n_col + 1\n",
    "\n",
    "# Sort as a function of eccentricity\n",
    "reg.sort(key=lambda x: x.area)\n",
    "reg_clean = [region for region in reg if (region.area) > area_cutoff]\n",
    "\n",
    "print(\"{} cells with selected criteria\".format(len(reg_clean), area_cutoff))\n",
    "\n",
    "fig, ax = plt.subplots(n_col, n_rows)\n",
    "axes = ax.ravel()\n",
    "\n",
    "for i, region in enumerate(reg_clean):\n",
    "    (min_row, min_col, max_row, max_col) = region.bbox\n",
    "    drop_image = org_img[np.max([min_row-border,0]):np.min([max_row+border,max_row]),np.max([min_col-border,0]):np.min([max_col+border,max_col])]\n",
    "    contrast_stretch = exposure.rescale_intensity(drop_image, in_range=(0,255))\n",
    "    axes[i].imshow(contrast_stretch, cmap=plt.cm.gray, interpolation='nearest', vmin=0, vmax=255)\n",
    "    axes[i].axis('off')\n",
    "    \n",
    "for i in range(n_col*n_rows - len(reg_clean)):\n",
    "    axes[-(i+1)].axis('off')\n",
    "    \n",
    "fig.set_size_inches(15, 25)"
   ]
  },
  {
   "cell_type": "code",
   "execution_count": null,
   "metadata": {},
   "outputs": [],
   "source": []
  }
 ],
 "metadata": {
  "kernelspec": {
   "display_name": "Python 3",
   "language": "python",
   "name": "python3"
  },
  "language_info": {
   "codemirror_mode": {
    "name": "ipython",
    "version": 3
   },
   "file_extension": ".py",
   "mimetype": "text/x-python",
   "name": "python",
   "nbconvert_exporter": "python",
   "pygments_lexer": "ipython3",
   "version": "3.6.8"
  }
 },
 "nbformat": 4,
 "nbformat_minor": 4
}
