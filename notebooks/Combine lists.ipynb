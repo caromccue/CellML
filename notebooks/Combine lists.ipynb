{
 "cells": [
  {
   "cell_type": "code",
   "execution_count": 1,
   "metadata": {},
   "outputs": [],
   "source": [
    "#run Flat with first file\n",
    "%store -r areaumflat\n",
    "%store -r circularityflat\n",
    "%store -r celllengthflat\n",
    "%store -r aspectratioflat\n",
    "\n",
    "areaflat = areaumflat\n",
    "circflat = circularityflat\n",
    "lengthflat = celllengthflat\n",
    "arflat = aspectratioflat"
   ]
  },
  {
   "cell_type": "code",
   "execution_count": 2,
   "metadata": {},
   "outputs": [
    {
     "name": "stdout",
     "output_type": "stream",
     "text": [
      "Stored 'areaflatnew' (Series)\n",
      "Stored 'circflatnew' (Series)\n",
      "Stored 'lengthflatnew' (Series)\n",
      "Stored 'arflatnew' (Series)\n"
     ]
    }
   ],
   "source": [
    "#run Flat again with a different file\n",
    "%store -r areaumflat\n",
    "%store -r circularityflat\n",
    "%store -r celllengthflat\n",
    "%store -r aspectratioflat\n",
    "\n",
    "areaflatnew = areaflat.append(areaumflat)\n",
    "circflatnew = circflat.append(circularityflat)\n",
    "lengthflatnew = lengthflat.append(celllengthflat)\n",
    "arflatnew = arflat.append(aspectratioflat)\n",
    "len(areaflatnew), len(circflatnew), len(lengthflatnew), len(arflatnew)\n",
    "\n",
    "%store areaflatnew\n",
    "%store circflatnew\n",
    "%store lengthflatnew\n",
    "%store arflatnew"
   ]
  },
  {
   "cell_type": "code",
   "execution_count": 3,
   "metadata": {},
   "outputs": [],
   "source": [
    "#run 2.5 with first file\n",
    "%store -r areaum2p5\n",
    "%store -r circularity2p5\n",
    "%store -r celllength2p5\n",
    "%store -r aspectratio2p5\n",
    "\n",
    "area2p5 = areaum2p5\n",
    "circ2p5 = circularity2p5\n",
    "length2p5 = celllength2p5\n",
    "ar2p5 = aspectratio2p5"
   ]
  },
  {
   "cell_type": "code",
   "execution_count": 5,
   "metadata": {},
   "outputs": [],
   "source": [
    "#run 2.5 again with a different file (can run this one multiple times)\n",
    "%store -r areaum2p5\n",
    "%store -r circularity2p5\n",
    "%store -r celllength2p5\n",
    "%store -r aspectratio2p5\n",
    "\n",
    "area2p5new = area2p5.append(areaum2p5)\n",
    "circ2p5new = circ2p5.append(circularity2p5)\n",
    "length2p5new = length2p5.append(celllength2p5)\n",
    "ar2p5new = ar2p5.append(aspectratio2p5)\n",
    "len(area2p5new), len(circ2p5new), len(length2p5new), len(ar2p5new)\n",
    "\n",
    "area2p5 = area2p5new\n",
    "circ2p5 = circ2p5new\n",
    "length2p5 = length2p5new\n",
    "ar2p5 = ar2p5new"
   ]
  },
  {
   "cell_type": "code",
   "execution_count": 6,
   "metadata": {},
   "outputs": [
    {
     "name": "stdout",
     "output_type": "stream",
     "text": [
      "Stored 'area2p5new' (Series)\n",
      "Stored 'circ2p5new' (Series)\n",
      "Stored 'length2p5new' (Series)\n",
      "Stored 'ar2p5new' (Series)\n"
     ]
    }
   ],
   "source": [
    "#run 2.5 again with last file\n",
    "%store -r areaum2p5\n",
    "%store -r circularity2p5\n",
    "%store -r celllength2p5\n",
    "%store -r aspectratio2p5\n",
    "\n",
    "area2p5new = area2p5.append(areaum2p5)\n",
    "circ2p5new = circ2p5.append(circularity2p5)\n",
    "length2p5new = length2p5.append(celllength2p5)\n",
    "ar2p5new = ar2p5.append(aspectratio2p5)\n",
    "len(area2p5new), len(circ2p5new), len(length2p5new), len(ar2p5new)\n",
    "\n",
    "%store area2p5new\n",
    "%store circ2p5new\n",
    "%store length2p5new\n",
    "%store ar2p5new"
   ]
  },
  {
   "cell_type": "code",
   "execution_count": 7,
   "metadata": {},
   "outputs": [
    {
     "data": {
      "text/plain": [
       "495"
      ]
     },
     "execution_count": 7,
     "metadata": {},
     "output_type": "execute_result"
    }
   ],
   "source": [
    "len(area2p5new)"
   ]
  },
  {
   "cell_type": "code",
   "execution_count": 8,
   "metadata": {},
   "outputs": [],
   "source": [
    "#run 5 with first file\n",
    "%store -r areaum5\n",
    "%store -r circularity5\n",
    "%store -r celllength5\n",
    "%store -r aspectratio5\n",
    "\n",
    "area5 = areaum5\n",
    "circ5 = circularity5\n",
    "length5 = celllength5\n",
    "ar5 = aspectratio5"
   ]
  },
  {
   "cell_type": "code",
   "execution_count": 10,
   "metadata": {},
   "outputs": [],
   "source": [
    "#run 5 again with a different file (can run this one multiple times)\n",
    "%store -r areaum5\n",
    "%store -r circularity5\n",
    "%store -r celllength5\n",
    "%store -r aspectratio5\n",
    "\n",
    "area5new = area5.append(areaum5)\n",
    "circ5new = circ5.append(circularity5)\n",
    "length5new = length5.append(celllength5)\n",
    "ar5new = ar5.append(aspectratio5)\n",
    "len(area5new), len(circ5new), len(length5new), len(ar5new)\n",
    "\n",
    "area5 = area5new\n",
    "circ5 = circ5new\n",
    "length5 = length5new\n",
    "ar5 = ar5new"
   ]
  },
  {
   "cell_type": "code",
   "execution_count": 11,
   "metadata": {},
   "outputs": [
    {
     "name": "stdout",
     "output_type": "stream",
     "text": [
      "Stored 'area5new' (Series)\n",
      "Stored 'circ5new' (Series)\n",
      "Stored 'length5new' (Series)\n",
      "Stored 'ar5new' (Series)\n"
     ]
    }
   ],
   "source": [
    "#run 5 again with last file\n",
    "%store -r areaum5\n",
    "%store -r circularity5\n",
    "%store -r celllength5\n",
    "%store -r aspectratio5\n",
    "\n",
    "area5new = area5.append(areaum5)\n",
    "circ5new = circ5.append(circularity5)\n",
    "length5new = length5.append(celllength5)\n",
    "ar5new = ar5.append(aspectratio5)\n",
    "len(area5new), len(circ5new), len(length5new), len(ar5new)\n",
    "\n",
    "%store area5new\n",
    "%store circ5new\n",
    "%store length5new\n",
    "%store ar5new"
   ]
  },
  {
   "cell_type": "code",
   "execution_count": 12,
   "metadata": {},
   "outputs": [
    {
     "data": {
      "text/plain": [
       "507"
      ]
     },
     "execution_count": 12,
     "metadata": {},
     "output_type": "execute_result"
    }
   ],
   "source": [
    "len(area5new)"
   ]
  },
  {
   "cell_type": "code",
   "execution_count": 9,
   "metadata": {},
   "outputs": [],
   "source": [
    "#run 10 with first file\n",
    "%store -r areaum10\n",
    "%store -r circularity10\n",
    "%store -r celllength10\n",
    "%store -r aspectratio10\n",
    "\n",
    "area10 = areaum10\n",
    "circ10 = circularity10\n",
    "length10 = celllength10\n",
    "ar10 = aspectratio10"
   ]
  },
  {
   "cell_type": "code",
   "execution_count": 14,
   "metadata": {},
   "outputs": [],
   "source": [
    "#run 10 again with a different file (can run this one multiple times)\n",
    "%store -r areaum10\n",
    "%store -r circularity10\n",
    "%store -r celllength10\n",
    "%store -r aspectratio10\n",
    "\n",
    "area10new = area10.append(areaum10)\n",
    "circ10new = circ10.append(circularity10)\n",
    "length10new = length10.append(celllength10)\n",
    "ar10new = ar10.append(aspectratio10)\n",
    "len(area10new), len(circ10new), len(length10new), len(ar10new)\n",
    "\n",
    "area10 = area10new\n",
    "circ10 = circ10new\n",
    "length10 = length10new\n",
    "ar10 = ar10new"
   ]
  },
  {
   "cell_type": "code",
   "execution_count": 15,
   "metadata": {},
   "outputs": [
    {
     "name": "stdout",
     "output_type": "stream",
     "text": [
      "Stored 'area10new' (Series)\n",
      "Stored 'circ10new' (Series)\n",
      "Stored 'length10new' (Series)\n",
      "Stored 'ar10new' (Series)\n"
     ]
    }
   ],
   "source": [
    "#run 10 again with last file\n",
    "%store -r areaum10\n",
    "%store -r circularity10\n",
    "%store -r celllength10\n",
    "%store -r aspectratio10\n",
    "\n",
    "area10new = area10.append(areaum10)\n",
    "circ10new = circ10.append(circularity10)\n",
    "length10new = length10.append(celllength10)\n",
    "ar10new = ar10.append(aspectratio10)\n",
    "len(area10new), len(circ10new), len(length10new), len(ar10new)\n",
    "\n",
    "%store area10new\n",
    "%store circ10new\n",
    "%store length10new\n",
    "%store ar10new"
   ]
  },
  {
   "cell_type": "code",
   "execution_count": 16,
   "metadata": {},
   "outputs": [
    {
     "data": {
      "text/plain": [
       "374"
      ]
     },
     "execution_count": 16,
     "metadata": {},
     "output_type": "execute_result"
    }
   ],
   "source": [
    "len(area10new)"
   ]
  },
  {
   "cell_type": "code",
   "execution_count": null,
   "metadata": {},
   "outputs": [],
   "source": []
  }
 ],
 "metadata": {
  "kernelspec": {
   "display_name": "Python 3",
   "language": "python",
   "name": "python3"
  },
  "language_info": {
   "codemirror_mode": {
    "name": "ipython",
    "version": 3
   },
   "file_extension": ".py",
   "mimetype": "text/x-python",
   "name": "python",
   "nbconvert_exporter": "python",
   "pygments_lexer": "ipython3",
   "version": "3.6.8"
  }
 },
 "nbformat": 4,
 "nbformat_minor": 2
}
